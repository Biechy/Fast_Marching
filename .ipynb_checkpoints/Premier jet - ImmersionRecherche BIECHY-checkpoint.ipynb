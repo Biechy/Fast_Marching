{
 "cells": [
  {
   "cell_type": "markdown",
   "metadata": {},
   "source": [
    "Les importations"
   ]
  },
  {
   "cell_type": "code",
   "execution_count": 1,
   "metadata": {},
   "outputs": [],
   "source": [
    "import matplotlib.pyplot as plt\n",
    "import numpy as np"
   ]
  },
  {
   "cell_type": "markdown",
   "metadata": {},
   "source": [
    "Création d'un damier"
   ]
  },
  {
   "cell_type": "code",
   "execution_count": 2,
   "metadata": {},
   "outputs": [
    {
     "name": "stdout",
     "output_type": "stream",
     "text": [
      "Quel est la taille de votre damier choisis ?10\n"
     ]
    }
   ],
   "source": [
    "try:\n",
    "    tailleDamier = int(input('Quel est la taille de votre damier choisis ?'))\n",
    "except:\n",
    "    print('Rentrer un entier positif')\n",
    "    \n",
    "xx, yy = np.meshgrid(np.zeros(tailleDamier),np.zeros(tailleDamier))\n",
    "\n",
    "damier = xx\n",
    "\n",
    "#print(damier)"
   ]
  },
  {
   "cell_type": "markdown",
   "metadata": {},
   "source": [
    "Création de la Narrow Band"
   ]
  },
  {
   "cell_type": "code",
   "execution_count": 3,
   "metadata": {},
   "outputs": [],
   "source": [
    "def voisins(damier, case):\n",
    "    i = case[0]\n",
    "    j = case[1]\n",
    "    return [(a,b) for (a,b) in [(i-1,j),  (i, j+1), (i+1,j), (i,j-1)] if (a in range(len(damier)) and b in range(len(damier[0])) and (damier[a][b]==0 or damier[a][b]==np.inf))]"
   ]
  },
  {
   "cell_type": "code",
   "execution_count": 4,
   "metadata": {},
   "outputs": [
    {
     "name": "stdout",
     "output_type": "stream",
     "text": [
      "Quel case voulez-vous figée (coordonnée en x) ?4\n",
      "Quel case voulez-vous figée (coordonnée en y) ?0\n"
     ]
    }
   ],
   "source": [
    "try:\n",
    "    caseFigeeX = (int(input('Quel case voulez-vous figée (coordonnée en x) ?')) - 1)\n",
    "    caseFigeeY = (int(input('Quel case voulez-vous figée (coordonnée en y) ?')) - 1) \n",
    "except:\n",
    "    print('Mettre un entier positif compris entre 1 et la taille du damier')\n",
    "    \n",
    "origine = caseFigeeX, caseFigeeY\n",
    "\n",
    "narrowBand = np.array(voisins(damier, origine))\n",
    "\n",
    "#print(narrowBand)"
   ]
  },
  {
   "cell_type": "markdown",
   "metadata": {},
   "source": [
    "Création de la notion de distance dans ce damier"
   ]
  },
  {
   "cell_type": "code",
   "execution_count": 5,
   "metadata": {},
   "outputs": [
    {
     "name": "stdout",
     "output_type": "stream",
     "text": [
      "Définir une longeur de cellule en mètres : 1\n"
     ]
    }
   ],
   "source": [
    "h = float(input('Définir une longeur de cellule en mètres : '))\n",
    "\n",
    "def distance(origine, case):\n",
    "    listeDistance = []\n",
    "    if type(case[0]) == np.int64 or type(case[0]) == int :\n",
    "        return np.sqrt((h*case[0]-h*origine[0])**2 + (h*case[1]-h*origine[1])**2 )\n",
    "    \n",
    "    for i in range(len(case)):\n",
    "        listeDistance.append(np.sqrt((h*case[i][0]-h*origine[0])**2 + (h*case[i][1]-h*origine[1])**2 ))\n",
    "    return listeDistance\n",
    "\n",
    "#print(distance([0,0],[2,2]))\n",
    "#print(distance([0,0],[[2,2],[3,3],[5,5]]))"
   ]
  },
  {
   "cell_type": "markdown",
   "metadata": {},
   "source": [
    "Fonction du gradient"
   ]
  },
  {
   "cell_type": "code",
   "execution_count": 6,
   "metadata": {},
   "outputs": [],
   "source": [
    "def gradX (origine, caseFigee, h, tailleDamier ):\n",
    "    dCaseFigee = distance(origine, caseFigee)\n",
    "    \n",
    "    if caseFigee[0]<tailleDamier-1  :\n",
    "        dCaseFigeeDroite = distance(origine, [caseFigee[0]+1, caseFigee[1]] )        \n",
    "    else:\n",
    "        dCaseFigeeDroite=np.inf\n",
    "        \n",
    "    if caseFigee[0]>0:    \n",
    "        dCaseFigeeGauche = distance(origine, [caseFigee[0]-1, caseFigee[1]])\n",
    "    else:\n",
    "        dCaseFigeeGauche=np.inf\n",
    "    \n",
    "    dMinimalGradX = np.min([dCaseFigeeDroite, dCaseFigeeGauche])\n",
    "    return (dCaseFigee-dMinimalGradX)/h\n",
    "    \n",
    "def gradY (origine, caseFigee, h, tailleDamier):\n",
    "    dCaseFigee = distance(origine, caseFigee)\n",
    "    \n",
    "    if caseFigee[1]<tailleDamier-1:\n",
    "        dCaseFigeeHaut = distance(origine, [caseFigee[0], caseFigee[1]+1] )\n",
    "    else:\n",
    "        dCaseFigeeHaut = np.inf\n",
    "        \n",
    "    if caseFigee[1]>0:\n",
    "        dCaseFigeeBas = distance(origine, [caseFigee[0], caseFigee[1]-1])\n",
    "    else:\n",
    "        dCaseFigeeBas = np.inf\n",
    "    \n",
    "    dMinimalGradY = np.min([dCaseFigeeBas, dCaseFigeeHaut])\n",
    "    return (dCaseFigee-dMinimalGradY)/h"
   ]
  },
  {
   "cell_type": "markdown",
   "metadata": {},
   "source": [
    "Répends la vague"
   ]
  },
  {
   "cell_type": "code",
   "execution_count": 7,
   "metadata": {},
   "outputs": [
    {
     "ename": "ValueError",
     "evalue": "cannot reshape array of size 0 into shape (0,newaxis)",
     "output_type": "error",
     "traceback": [
      "\u001b[0;31m---------------------------------------------------------------------------\u001b[0m",
      "\u001b[0;31mValueError\u001b[0m                                Traceback (most recent call last)",
      "\u001b[0;32m<ipython-input-7-693ffb3dda47>\u001b[0m in \u001b[0;36m<module>\u001b[0;34m\u001b[0m\n\u001b[1;32m     21\u001b[0m     \u001b[0;31m#supprime la case qui a été figée et les doublons dans la narrowBand\u001b[0m\u001b[0;34m\u001b[0m\u001b[0;34m\u001b[0m\u001b[0;34m\u001b[0m\u001b[0m\n\u001b[1;32m     22\u001b[0m     \u001b[0mnarrowBand\u001b[0m \u001b[0;34m=\u001b[0m \u001b[0mnp\u001b[0m\u001b[0;34m.\u001b[0m\u001b[0mdelete\u001b[0m\u001b[0;34m(\u001b[0m\u001b[0mnarrowBand\u001b[0m\u001b[0;34m,\u001b[0m \u001b[0mindiceMinimalDistance\u001b[0m\u001b[0;34m,\u001b[0m \u001b[0;36m0\u001b[0m\u001b[0;34m)\u001b[0m\u001b[0;34m\u001b[0m\u001b[0;34m\u001b[0m\u001b[0m\n\u001b[0;32m---> 23\u001b[0;31m     \u001b[0mnarrowBand\u001b[0m \u001b[0;34m=\u001b[0m \u001b[0mnp\u001b[0m\u001b[0;34m.\u001b[0m\u001b[0munique\u001b[0m\u001b[0;34m(\u001b[0m\u001b[0mnarrowBand\u001b[0m\u001b[0;34m,\u001b[0m \u001b[0maxis\u001b[0m\u001b[0;34m=\u001b[0m\u001b[0;36m0\u001b[0m\u001b[0;34m)\u001b[0m\u001b[0;34m\u001b[0m\u001b[0;34m\u001b[0m\u001b[0m\n\u001b[0m\u001b[1;32m     24\u001b[0m \u001b[0;34m\u001b[0m\u001b[0m\n\u001b[1;32m     25\u001b[0m \u001b[0;34m\u001b[0m\u001b[0m\n",
      "\u001b[0;32m<__array_function__ internals>\u001b[0m in \u001b[0;36munique\u001b[0;34m(*args, **kwargs)\u001b[0m\n",
      "\u001b[0;32m~/Library/Python/3.8/lib/python/site-packages/numpy/lib/arraysetops.py\u001b[0m in \u001b[0;36munique\u001b[0;34m(ar, return_index, return_inverse, return_counts, axis)\u001b[0m\n\u001b[1;32m    273\u001b[0m     \u001b[0;31m# Must reshape to a contiguous 2D array for this to work...\u001b[0m\u001b[0;34m\u001b[0m\u001b[0;34m\u001b[0m\u001b[0;34m\u001b[0m\u001b[0m\n\u001b[1;32m    274\u001b[0m     \u001b[0morig_shape\u001b[0m\u001b[0;34m,\u001b[0m \u001b[0morig_dtype\u001b[0m \u001b[0;34m=\u001b[0m \u001b[0mar\u001b[0m\u001b[0;34m.\u001b[0m\u001b[0mshape\u001b[0m\u001b[0;34m,\u001b[0m \u001b[0mar\u001b[0m\u001b[0;34m.\u001b[0m\u001b[0mdtype\u001b[0m\u001b[0;34m\u001b[0m\u001b[0;34m\u001b[0m\u001b[0m\n\u001b[0;32m--> 275\u001b[0;31m     \u001b[0mar\u001b[0m \u001b[0;34m=\u001b[0m \u001b[0mar\u001b[0m\u001b[0;34m.\u001b[0m\u001b[0mreshape\u001b[0m\u001b[0;34m(\u001b[0m\u001b[0morig_shape\u001b[0m\u001b[0;34m[\u001b[0m\u001b[0;36m0\u001b[0m\u001b[0;34m]\u001b[0m\u001b[0;34m,\u001b[0m \u001b[0;34m-\u001b[0m\u001b[0;36m1\u001b[0m\u001b[0;34m)\u001b[0m\u001b[0;34m\u001b[0m\u001b[0;34m\u001b[0m\u001b[0m\n\u001b[0m\u001b[1;32m    276\u001b[0m     \u001b[0mar\u001b[0m \u001b[0;34m=\u001b[0m \u001b[0mnp\u001b[0m\u001b[0;34m.\u001b[0m\u001b[0mascontiguousarray\u001b[0m\u001b[0;34m(\u001b[0m\u001b[0mar\u001b[0m\u001b[0;34m)\u001b[0m\u001b[0;34m\u001b[0m\u001b[0;34m\u001b[0m\u001b[0m\n\u001b[1;32m    277\u001b[0m     \u001b[0mdtype\u001b[0m \u001b[0;34m=\u001b[0m \u001b[0;34m[\u001b[0m\u001b[0;34m(\u001b[0m\u001b[0;34m'f{i}'\u001b[0m\u001b[0;34m.\u001b[0m\u001b[0mformat\u001b[0m\u001b[0;34m(\u001b[0m\u001b[0mi\u001b[0m\u001b[0;34m=\u001b[0m\u001b[0mi\u001b[0m\u001b[0;34m)\u001b[0m\u001b[0;34m,\u001b[0m \u001b[0mar\u001b[0m\u001b[0;34m.\u001b[0m\u001b[0mdtype\u001b[0m\u001b[0;34m)\u001b[0m \u001b[0;32mfor\u001b[0m \u001b[0mi\u001b[0m \u001b[0;32min\u001b[0m \u001b[0mrange\u001b[0m\u001b[0;34m(\u001b[0m\u001b[0mar\u001b[0m\u001b[0;34m.\u001b[0m\u001b[0mshape\u001b[0m\u001b[0;34m[\u001b[0m\u001b[0;36m1\u001b[0m\u001b[0;34m]\u001b[0m\u001b[0;34m)\u001b[0m\u001b[0;34m]\u001b[0m\u001b[0;34m\u001b[0m\u001b[0;34m\u001b[0m\u001b[0m\n",
      "\u001b[0;31mValueError\u001b[0m: cannot reshape array of size 0 into shape (0,newaxis)"
     ]
    }
   ],
   "source": [
    "while len(narrowBand)!=0:\n",
    "    #chope la case la plus proche dans le narrowBand et on l'appelle nouvelleCaseFigee\n",
    "    narrowBandDistance = distance(origine, narrowBand)\n",
    "    indiceMinimalDistance = list(narrowBandDistance).index(np.min(narrowBandDistance))\n",
    "    caseFigee = narrowBand[indiceMinimalDistance]\n",
    "    \n",
    "    #on prend le gradient de la nouvelle case figée\n",
    "    gradDx = gradX(origine, caseFigee, h, tailleDamier)\n",
    "    gradDy = gradY(origine, caseFigee, h, tailleDamier)\n",
    "    \n",
    "    \n",
    "    #applique la formule de 1/F\n",
    "    damier[caseFigee[0],caseFigee[1]] = np.sqrt(gradDx**2 + gradDy**2)\n",
    "    \n",
    "    \n",
    "    #ajoute les nouveaux voisins à la narrowBand\n",
    "    nouveauxVoisins = np.array([[a,b] for (a,b) in voisins(damier,caseFigee) if ([a,b]!=[origine[0],origine[1]])   ] )\n",
    "    if len(nouveauxVoisins)>0:\n",
    "        narrowBand = np.concatenate((narrowBand,nouveauxVoisins))\n",
    "    \n",
    "    #supprime la case qui a été figée et les doublons dans la narrowBand\n",
    "    narrowBand = np.delete(narrowBand, indiceMinimalDistance, 0)\n",
    "    narrowBand = np.unique(narrowBand, axis=0)\n",
    "    \n",
    "\n",
    "    #print('\\n', narrowBand)\n",
    "\n",
    "#print(damier)"
   ]
  },
  {
   "cell_type": "markdown",
   "metadata": {},
   "source": [
    "Faisons en un beau graphe"
   ]
  },
  {
   "cell_type": "code",
   "execution_count": null,
   "metadata": {},
   "outputs": [],
   "source": [
    "fig = plt.figure()\n",
    "im = plt.imshow(damier, origin='lower',extent=[0,tailleDamier,0,tailleDamier])\n",
    "plt.xlabel('longueur')\n",
    "plt.ylabel('largeur')\n",
    "c = fig.colorbar(im)\n",
    "c.set_label('1/F')\n",
    "plt.show()"
   ]
  }
 ],
 "metadata": {
  "kernelspec": {
   "display_name": "Python 3",
   "language": "python",
   "name": "python3"
  },
  "language_info": {
   "codemirror_mode": {
    "name": "ipython",
    "version": 3
   },
   "file_extension": ".py",
   "mimetype": "text/x-python",
   "name": "python",
   "nbconvert_exporter": "python",
   "pygments_lexer": "ipython3",
   "version": "3.8.6"
  }
 },
 "nbformat": 4,
 "nbformat_minor": 4
}
