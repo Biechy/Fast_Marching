{
 "cells": [
  {
   "cell_type": "markdown",
   "metadata": {},
   "source": [
    "On cherche une solution numérique à l'équation eikonale 2D suivante :\n",
    "\n",
    "$$ | \\nabla D_{ij} | = \\frac{1}{F_{ij}} $$\n",
    "\n",
    "Ici on considère que $F_{ij}$ est donné et constantamment égal à 1.\n",
    "\n",
    "\n",
    "Pour cela, on utilise un algorithme de fast-marching. On modélise le problème avec un quadrillage (array 2D) dans lequel on pourra calculer des distances. \n",
    "Dans tout cet exemple, i représentera l'indice de la ligne, j l'indice de la colonne et O l'objectif (origine)."
   ]
  },
  {
   "cell_type": "code",
   "execution_count": 31,
   "metadata": {},
   "outputs": [],
   "source": [
    "import numpy as np"
   ]
  },
  {
   "cell_type": "markdown",
   "metadata": {},
   "source": [
    "On déclare les fonctions. Les deux premières permettent de récupérer les coordonnées des voisins d'une case du tableau."
   ]
  },
  {
   "cell_type": "code",
   "execution_count": 32,
   "metadata": {},
   "outputs": [],
   "source": [
    "def voisins(T, case):\n",
    "    \"\"\" Renvoie les coordonnées des voisins de la case dans le tableau T.\n",
    "    \n",
    "    Args:\n",
    "        T (array 2D) : tableau d'étude\n",
    "        case (tuple) : coordonnées (i,j) de la case dont on veut connaître les voisins\n",
    "                       (on ne compte pas les voisins situés sur la diagonale)  \n",
    "                       \n",
    "    Returns:\n",
    "        voisins (list) : liste de tuple contenant les coordonnées des voisins \n",
    "        \n",
    "    \"\"\"\n",
    "    \n",
    "    i = case[0]  #indice de la ligne \n",
    "    j = case[1]  #indice de la colonne \n",
    "    voisins = [ (i-1,j) , (i+1,j) , (i,j-1) , (i,j+1) ]  #une case a au plus 4 voisins\n",
    "    \n",
    "    return [ v for v in voisins if (0 <= v[0] < T.shape[0]) and (0 <= v[1] < T.shape[1]) ]\n",
    "    #liste en compréhension pour éviter de sortir du tableau T\n",
    "    "
   ]
  },
  {
   "cell_type": "code",
   "execution_count": 33,
   "metadata": {},
   "outputs": [],
   "source": [
    "def voisins_sep(T, case):\n",
    "    \"\"\" On veut toujours récupérer les voisins d'une case mais cette fois on sépare les voisins verticaux (selon i) \n",
    "        et horizontaux (selon j).\n",
    "    \n",
    "    Args:\n",
    "        T (array 2D) : tableau d'étude\n",
    "        case (tuple) : coordonnées (i,j) de la case dont on veut connaître les voisins   \n",
    "                      \n",
    "    Returns:\n",
    "        voisins (tuple) : tuple contenant 2 listes et chaque liste contient les coordonnées des voisins :\n",
    "                                - la 1ère correspond aux voisins verticaux\n",
    "                                - la 2ème correspond aux voisins horizontaux\n",
    "        \n",
    "    \"\"\"\n",
    "    \n",
    "    i = case[0]  #indice de la ligne \n",
    "    j = case[1]  #indice de la colonne \n",
    "    voisins_i = [ (i-1,j) , (i+1,j) ]  #maximum 2 voisins selon chaque direction\n",
    "    voisins_j = [ (i,j-1) , (i,j+1) ] \n",
    "    \n",
    "    return [ v for v in voisins_i if (0 <= v[0] < T.shape[0]) and (0 <= v[1] < T.shape[1]) ] , \\\n",
    "    [ v for v in voisins_j if (0 <= v[0] < T.shape[0]) and (0 <= v[1] < T.shape[1]) ]\n"
   ]
  },
  {
   "cell_type": "markdown",
   "metadata": {},
   "source": [
    "Les deux fonctions suivantes permettent de calculer la distance séparant une case de l'objectif (ou origine) de deux manières :\n",
    "\n",
    "- fonction distance() : détermine géométriquement la distance (calcule la norme du vecteur position)\n",
    "- fonction calcul_D() : détermine analytiquement la distance (à partir de l'équation eikonale, on peut calculer la distance en résolvant une équation du second degré, on conserve la racine la plus grande)"
   ]
  },
  {
   "cell_type": "code",
   "execution_count": 34,
   "metadata": {},
   "outputs": [],
   "source": [
    "def distance(O, case, h):\n",
    "    \"\"\" On calcule géometriquement la distance entre l'objectif O et la case considérée. Autrement dit on calcule \n",
    "        la norme du vecteur partant de l'objectif jusqu'à la case. \n",
    "    \n",
    "    Args:\n",
    "        O (tuple) : coordonnées de l'objectif fixées dès le départ\n",
    "        case (tuple) : coordonnées de la case\n",
    "        h (float) : longueur d'une cellule\n",
    "        \n",
    "    Returns:\n",
    "        d (float) : distance géométrique\n",
    "    \n",
    "    \"\"\"\n",
    "    \n",
    "    d = np.sqrt( (h*case[0]-h*O[0])**2 + (h*case[1]-h*O[1])**2 )\n",
    "    return d\n",
    "    "
   ]
  },
  {
   "cell_type": "code",
   "execution_count": 35,
   "metadata": {},
   "outputs": [],
   "source": [
    "def calcul_D(T, case, O, h, F):\n",
    "    \"\"\" Calcule analytiquement la distance. On commence par identifier les valeurs minimum parmi les voisins verticaux (vi) \n",
    "        et horizontaux (vj). Cela va nous permette d'exprimer approximativement le gradient. \n",
    "        Comme les distances qui ne sont pas encore calculées valent 0, le minimum sera en fait le maximum des 2. \n",
    "    \n",
    "    Args:\n",
    "        T (array 2D) : tableau d'étude\n",
    "        case (tuple) : coordonnées de la case\n",
    "        O (tuple) : coordonnées de l'objectif\n",
    "        h (float) : longueur d'une cellule\n",
    "        F (float) : paramètre donné\n",
    "        \n",
    "    Returns:\n",
    "        Dij (float) : distance \n",
    "      \n",
    "    \"\"\"\n",
    "    \n",
    "    vi = voisins_sep(T, case)[0]  #liste des voisins verticaux\n",
    "    if len(vi) == 1:\n",
    "        a = T[vi[0]]\n",
    "    else:\n",
    "        a = max(T[vi[0]], T[vi[1]])\n",
    "        \n",
    "    vj = voisins_sep(T, case)[1]  #liste des voisins horizontaux\n",
    "    if len(vj) == 1:\n",
    "        b = T[vj[0]]\n",
    "    else:\n",
    "        b = max(T[vj[0]], T[vj[1]])\n",
    "\n",
    "    \n",
    "    if a == 0 or a == 100000:  \n",
    "        a = distance(O, case, h)\n",
    "    if b == 0 or b == 100000:\n",
    "        b = distance(O, case, h)\n",
    "        \n",
    "#a = 0 ou b = 0 : soit la case est comprise entre deux cases dont les distances n'ont pas encore été calculées \n",
    "                 #soit celle-ci se trouve au bord\n",
    "#a = 100000 ou b = 100000 : si la case se situe à côté d'un mur\n",
    "\n",
    "#Dans ces cas spécifiques, on renvoie la distance géométrique \n",
    "        \n",
    "    Dij = (a+b)/2 + 0.5*np.sqrt( (a+b)**2 - 2*(a**2 + b**2 - (h/F)**2) )\n",
    "    #racine obtenue en résolvant l'équation du second degré\n",
    "        \n",
    "    return Dij\n"
   ]
  },
  {
   "cell_type": "markdown",
   "metadata": {},
   "source": [
    "Encore deux autres fonctions :"
   ]
  },
  {
   "cell_type": "code",
   "execution_count": 36,
   "metadata": {},
   "outputs": [],
   "source": [
    "def update_NB(T, O, NB_actuelle, min_NB):\n",
    "    \"\"\" Cette fonction va mettre à jour la Narrow Band actuelle en effectuant quelques modifications :\n",
    "            - retirer le minimum de la Narrow Band actuelle car on va l'étendre \n",
    "            - ajouter les nouveaux voisins\n",
    "            - enlever les doublons\n",
    "            \n",
    "    Args:\n",
    "        T (array 2D) : tableau d'étude\n",
    "        O (tuple) : coordonnées de l'objectif \n",
    "        NB_actuelle (list) : Narrow Band actuelle \n",
    "        min_NB (tuple) : minimum de la Narrow Band actuelle qui nous permet de l'étendre\n",
    "        \n",
    "    Returns:\n",
    "        new_NB (list) : nouvelle Narrow Band \n",
    "        \n",
    "            \n",
    "    \"\"\"\n",
    "    \n",
    "    NB_actuelle.remove(min_NB)  #on retire le minimum \n",
    "    \n",
    "    new_NB = NB_actuelle + [v for v in voisins(T, min_NB) if (T[v] == 0 and v != O) ] \n",
    "    #on veut ajouter seulement les voisins extérieurs (pas encore calculés donc égaux à 0 mais sans prendre l'objectif)  \n",
    "    \n",
    "    return list(set(new_NB))  #on renvoie la liste sans doublons\n",
    "    "
   ]
  },
  {
   "cell_type": "code",
   "execution_count": 37,
   "metadata": {},
   "outputs": [],
   "source": [
    "def minimum(T, liste_coord):\n",
    "    \"\"\"Renvoie le minimum à partir d'une liste de coordonnées qu'on étudie dans le tableau T.\n",
    "    \n",
    "    Args:\n",
    "        T (array 2D) : tableau d'étude\n",
    "        liste_coord (list) : liste de tuple (i,j)\n",
    "   \n",
    "    Returns:\n",
    "        coord_min (tuple) : coordonnées de la valeur minimum\n",
    "    \n",
    "    \"\"\"\n",
    "    \n",
    "    liste_valeur = []  #on parle de minimum par rapport aux valeurs de distances dans le tableau T\n",
    "    \n",
    "    for case in liste_coord:\n",
    "        liste_valeur.append(T[case])\n",
    "        \n",
    "    i_min = liste_valeur.index(min(liste_valeur))  #indice du minimum \n",
    "    coord_min = liste_coord[i_min]\n",
    "        \n",
    "    return coord_min\n"
   ]
  },
  {
   "cell_type": "markdown",
   "metadata": {},
   "source": [
    "Après avoir défini les fonctions, on peut commencer l'algorithme avec un premier exemple (objectif situé au bord)."
   ]
  },
  {
   "cell_type": "code",
   "execution_count": 38,
   "metadata": {},
   "outputs": [
    {
     "name": "stdout",
     "output_type": "stream",
     "text": [
      "[[0. 0. 0. 0. 0.]\n",
      " [0. 0. 0. 0. 0.]\n",
      " [0. 0. 0. 0. 0.]\n",
      " [0. 0. 0. 0. 0.]\n",
      " [0. 0. 0. 0. 0.]]\n"
     ]
    }
   ],
   "source": [
    "#Déclaration du tableau\n",
    "\n",
    "nb_lignes = 5\n",
    "nb_colonnes = 5\n",
    "\n",
    "T = np.zeros((nb_lignes, nb_colonnes))   #au départ tout est à 0 sauf s'il y a un mur qu'on modélise par une valeur \n",
    "                                         # arbitrairement grande comme 100000\n",
    "\n",
    "#paramètres\n",
    "h = 1  #longueur d'une cellule \n",
    "F = 1  \n",
    "\n",
    "#On fixe l'objectif O par rapport auquel on va calculer toutes les distances.\n",
    "#Toutes les cases sont définies par leurs coordonnées (i,j).\n",
    "O_i = 0   \n",
    "O_j = 1\n",
    "\n",
    "O = (O_i ,O_j)\n",
    "\n",
    "print(T)"
   ]
  },
  {
   "cell_type": "code",
   "execution_count": 39,
   "metadata": {},
   "outputs": [],
   "source": [
    "#Initialisation\n",
    "\n",
    "#Narrow Band initiale (on note NB)\n",
    "NB_initiale = voisins(T, O)  #la première Narrow Band contient seulement les voisins de l'objectif \n",
    "\n",
    "#Calcul des distances voisines \n",
    "for case in NB_initiale:\n",
    "    d = distance(O, case, h)  #on calcule géométriquement les premières distances pour initialiser l'algorithme\n",
    "    T[case] = d  #on remplace 0 par la distance à l'objectif dans le tableau T\n",
    "    \n",
    "#On fige le minimum de la Narrow Band qu'on appelle min_NB\n",
    "min_NB = minimum(T, NB_initiale)\n",
    "\n",
    "#On ajoute ses nouveaux voisins (autrement dit on met à jour la Narrow Band)\n",
    "new_NB = update_NB(T, O, NB_initiale, min_NB)"
   ]
  },
  {
   "cell_type": "code",
   "execution_count": 40,
   "metadata": {},
   "outputs": [
    {
     "name": "stdout",
     "output_type": "stream",
     "text": [
      "[[1.         0.         1.         2.         3.        ]\n",
      " [1.70710678 1.         1.70710678 2.54532893 3.44223041]\n",
      " [2.54532893 2.         2.54532893 3.25243571 4.04804305]\n",
      " [3.44223041 3.         3.44223041 4.04804305 4.75514983]\n",
      " [4.3709023  4.         4.3709023  4.89790602 5.53002289]]\n"
     ]
    }
   ],
   "source": [
    "while not (not new_NB) :  #tant que la Narrow Band n'est pas vide, on continue pour calculer toutes les distances\n",
    "    \n",
    "    for case in new_NB:\n",
    "        if T[case] == 0:\n",
    "            T[case] = calcul_D(T, case, O, h, F)  #distance \"analytique\" pour la suite\n",
    "        \n",
    "    min_NB = minimum(T, new_NB)\n",
    "\n",
    "    new_NB = update_NB(T, O, new_NB, min_NB)\n",
    "\n",
    "    \n",
    "print(T)"
   ]
  },
  {
   "cell_type": "markdown",
   "metadata": {},
   "source": [
    "Pour réduire l'erreur qu'on obtient sur les distances analytiques, on peut calculer plus de distances géométriquement. Par exemple pour la case (1,0), on obtient analytiquement $1 + \\frac{1}{\\sqrt{2}} \\approx 1.707$ alors que géométriquement on obtient $\\sqrt{2} \\approx 1.414$ car c'est l'hypoténuse dans un carré de côté 1 dans ce cas. "
   ]
  },
  {
   "cell_type": "markdown",
   "metadata": {},
   "source": [
    "2ème exemple : objectif situé au milieu de la grille"
   ]
  },
  {
   "cell_type": "code",
   "execution_count": 41,
   "metadata": {},
   "outputs": [
    {
     "name": "stdout",
     "output_type": "stream",
     "text": [
      "[[0. 0. 0. 0. 0.]\n",
      " [0. 0. 0. 0. 0.]\n",
      " [0. 0. 0. 0. 0.]\n",
      " [0. 0. 0. 0. 0.]\n",
      " [0. 0. 0. 0. 0.]]\n"
     ]
    }
   ],
   "source": [
    "#Déclaration du tableau\n",
    "\n",
    "nb_lignes = 5\n",
    "nb_colonnes = 5\n",
    "\n",
    "T = np.zeros((nb_lignes, nb_colonnes))   #au départ tout est à 0 sauf s'il y a un mur qu'on modélise par une valeur \n",
    "                                         # arbitrairement grande comme 100000\n",
    "\n",
    "#paramètres\n",
    "h = 1  #longueur d'une cellule \n",
    "F = 1  \n",
    "\n",
    "#On fixe l'objectif O par rapport auquel on va calculer toutes les distances.\n",
    "#Toutes les cases sont définies par leurs coordonnées (i,j).\n",
    "O_i = 2   \n",
    "O_j = 2\n",
    "\n",
    "O = (O_i ,O_j)\n",
    "\n",
    "print(T)"
   ]
  },
  {
   "cell_type": "code",
   "execution_count": 42,
   "metadata": {},
   "outputs": [],
   "source": [
    "#Initialisation\n",
    "\n",
    "#Narrow Band initiale (on note NB)\n",
    "NB_initiale = voisins(T, O)  #la première Narrow Band contient seulement les voisins de l'objectif \n",
    "\n",
    "#Calcul des distances voisines \n",
    "for case in NB_initiale:\n",
    "    d = distance(O, case, h)  #on calcule géométriquement les premières distances pour initialiser l'algorithme\n",
    "    T[case] = d  #on remplace 0 par la distance à l'objectif dans le tableau T\n",
    "    \n",
    "#On fige le minimum de la Narrow Band qu'on appelle min_NB\n",
    "min_NB = minimum(T, NB_initiale)\n",
    "\n",
    "#On ajoute ses nouveaux voisins (autrement dit on met à jour la Narrow Band)\n",
    "new_NB = update_NB(T, O, NB_initiale, min_NB)"
   ]
  },
  {
   "cell_type": "code",
   "execution_count": 43,
   "metadata": {},
   "outputs": [
    {
     "name": "stdout",
     "output_type": "stream",
     "text": [
      "[[3.25243571 2.54532893 2.         2.54532893 3.25243571]\n",
      " [2.54532893 1.70710678 1.         1.70710678 2.54532893]\n",
      " [2.         1.         0.         1.         2.        ]\n",
      " [2.54532893 1.70710678 1.         1.70710678 2.54532893]\n",
      " [3.25243571 2.54532893 2.         2.54532893 3.25243571]]\n"
     ]
    }
   ],
   "source": [
    "while not (not new_NB) :  #tant que la Narrow Band n'est pas vide, on continue pour calculer toutes les distances\n",
    "    \n",
    "    for case in new_NB:\n",
    "        if T[case] == 0:\n",
    "            T[case] = calcul_D(T, case, O, h, F)  #distance \"analytique\" pour la suite\n",
    "        \n",
    "    min_NB = minimum(T, new_NB)\n",
    "\n",
    "    new_NB = update_NB(T, O, new_NB, min_NB)\n",
    "\n",
    "    \n",
    "print(T)"
   ]
  }
 ],
 "metadata": {
  "kernelspec": {
   "display_name": "Python 3",
   "language": "python",
   "name": "python3"
  },
  "language_info": {
   "codemirror_mode": {
    "name": "ipython",
    "version": 3
   },
   "file_extension": ".py",
   "mimetype": "text/x-python",
   "name": "python",
   "nbconvert_exporter": "python",
   "pygments_lexer": "ipython3",
   "version": "3.8.6"
  }
 },
 "nbformat": 4,
 "nbformat_minor": 2
}
